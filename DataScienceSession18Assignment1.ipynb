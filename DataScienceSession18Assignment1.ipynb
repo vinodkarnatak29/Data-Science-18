{
 "cells": [
  {
   "cell_type": "code",
   "execution_count": 6,
   "metadata": {},
   "outputs": [],
   "source": [
    "#Problem Statement 1: \n",
    "\n",
    "#Is gender independent of education level? A random sample of 395 people were surveyed and each person was asked to report \n",
    "#the highest education level they obtained. The data that resulted from the survey is summarized in the following table: \n",
    "#      High School    Bachelors   Masters   Ph.d.   Total \n",
    "#Female 60             54          46        41      201 \n",
    "#Male   40             44          53        57      194 \n",
    "# \n",
    "#Total  100            98          99        98      395 \n",
    "\n",
    "#Question:  Are gender and education level dependent at 5% level of significance?  \n",
    "#In other words, given the data collected above, is there a relationship between the gender of an individual and the level \n",
    "#of education that they have obtained?  \n",
    "\n",
    "import numpy as np\n",
    "import scipy.stats as sci\n",
    "import pandas as pd\n",
    "import matplotlib.pyplot as plt\n",
    "import math as mth\n",
    "\n",
    "#1st Solution using ZScore and PValue\n",
    "\n",
    "#array\n",
    "female_array=np.array([60,54,46,41])\n",
    "male_array=np.array([40,44,53,57])\n",
    "education_level=['High School','Bachelors','Masters','PHD']\n",
    "\n",
    "#data set\n",
    "df=pd.DataFrame({'Edcuation_Level':education_level,'Male_Count':male_array,'Female_Count':female_array})\n",
    "\n",
    "#Calculate mean, std deviation, z score, and P Values of the data frame.\n",
    "df['male_mean']=male_array.mean()\n",
    "df['female_mean']=female_array.mean()\n",
    "df['male_std_dev']=male_array.std()\n",
    "df['female_std_dev']=female_array.std()\n",
    "df['male_zscore']=sci.zscore(male_array)\n",
    "df['female_zscore']=sci.zscore(female_array)\n",
    "df['female_pvalue']=[sci.norm.cdf(pval) for pval in sci.zscore(female_array)]\n",
    "df['male_pvalue']=[sci.norm.cdf(pval) for pval in sci.zscore(male_array )]"
   ]
  },
  {
   "cell_type": "code",
   "execution_count": 7,
   "metadata": {},
   "outputs": [
    {
     "data": {
      "text/html": [
       "<div>\n",
       "<style scoped>\n",
       "    .dataframe tbody tr th:only-of-type {\n",
       "        vertical-align: middle;\n",
       "    }\n",
       "\n",
       "    .dataframe tbody tr th {\n",
       "        vertical-align: top;\n",
       "    }\n",
       "\n",
       "    .dataframe thead th {\n",
       "        text-align: right;\n",
       "    }\n",
       "</style>\n",
       "<table border=\"1\" class=\"dataframe\">\n",
       "  <thead>\n",
       "    <tr style=\"text-align: right;\">\n",
       "      <th></th>\n",
       "      <th>Edcuation_Level</th>\n",
       "      <th>Male_Count</th>\n",
       "      <th>Female_Count</th>\n",
       "      <th>male_mean</th>\n",
       "      <th>female_mean</th>\n",
       "      <th>male_std_dev</th>\n",
       "      <th>female_std_dev</th>\n",
       "      <th>male_zscore</th>\n",
       "      <th>female_zscore</th>\n",
       "      <th>female_pvalue</th>\n",
       "      <th>male_pvalue</th>\n",
       "    </tr>\n",
       "  </thead>\n",
       "  <tbody>\n",
       "    <tr>\n",
       "      <th>0</th>\n",
       "      <td>High School</td>\n",
       "      <td>40</td>\n",
       "      <td>60</td>\n",
       "      <td>48.5</td>\n",
       "      <td>50.25</td>\n",
       "      <td>6.800735</td>\n",
       "      <td>7.292976</td>\n",
       "      <td>-1.249865</td>\n",
       "      <td>1.336903</td>\n",
       "      <td>0.909373</td>\n",
       "      <td>0.105674</td>\n",
       "    </tr>\n",
       "    <tr>\n",
       "      <th>1</th>\n",
       "      <td>Bachelors</td>\n",
       "      <td>44</td>\n",
       "      <td>54</td>\n",
       "      <td>48.5</td>\n",
       "      <td>50.25</td>\n",
       "      <td>6.800735</td>\n",
       "      <td>7.292976</td>\n",
       "      <td>-0.661693</td>\n",
       "      <td>0.514193</td>\n",
       "      <td>0.696442</td>\n",
       "      <td>0.254084</td>\n",
       "    </tr>\n",
       "    <tr>\n",
       "      <th>2</th>\n",
       "      <td>Masters</td>\n",
       "      <td>53</td>\n",
       "      <td>46</td>\n",
       "      <td>48.5</td>\n",
       "      <td>50.25</td>\n",
       "      <td>6.800735</td>\n",
       "      <td>7.292976</td>\n",
       "      <td>0.661693</td>\n",
       "      <td>-0.582752</td>\n",
       "      <td>0.280030</td>\n",
       "      <td>0.745916</td>\n",
       "    </tr>\n",
       "    <tr>\n",
       "      <th>3</th>\n",
       "      <td>PHD</td>\n",
       "      <td>57</td>\n",
       "      <td>41</td>\n",
       "      <td>48.5</td>\n",
       "      <td>50.25</td>\n",
       "      <td>6.800735</td>\n",
       "      <td>7.292976</td>\n",
       "      <td>1.249865</td>\n",
       "      <td>-1.268344</td>\n",
       "      <td>0.102338</td>\n",
       "      <td>0.894326</td>\n",
       "    </tr>\n",
       "  </tbody>\n",
       "</table>\n",
       "</div>"
      ],
      "text/plain": [
       "  Edcuation_Level  Male_Count  Female_Count  male_mean  female_mean  \\\n",
       "0     High School          40            60       48.5        50.25   \n",
       "1       Bachelors          44            54       48.5        50.25   \n",
       "2         Masters          53            46       48.5        50.25   \n",
       "3             PHD          57            41       48.5        50.25   \n",
       "\n",
       "   male_std_dev  female_std_dev  male_zscore  female_zscore  female_pvalue  \\\n",
       "0      6.800735        7.292976    -1.249865       1.336903       0.909373   \n",
       "1      6.800735        7.292976    -0.661693       0.514193       0.696442   \n",
       "2      6.800735        7.292976     0.661693      -0.582752       0.280030   \n",
       "3      6.800735        7.292976     1.249865      -1.268344       0.102338   \n",
       "\n",
       "   male_pvalue  \n",
       "0     0.105674  \n",
       "1     0.254084  \n",
       "2     0.745916  \n",
       "3     0.894326  "
      ]
     },
     "execution_count": 7,
     "metadata": {},
     "output_type": "execute_result"
    }
   ],
   "source": [
    "#Print data frame\n",
    "df"
   ]
  },
  {
   "cell_type": "code",
   "execution_count": 10,
   "metadata": {},
   "outputs": [
    {
     "name": "stdout",
     "output_type": "stream",
     "text": [
      "1.) Clearly Male and Female P values shows there is a relationship among Gender and Education level which is visible more than 5%\n",
      "2.) Female populations is more at lower education like High School and Bachelors\n",
      "3.) Female populations is less at higher education like Masters and PHD\n",
      "4.) Male populations is less at lower education like High School and Bachelors\n",
      "3.) Male populations is more at higher education like Masters and PHD\n"
     ]
    },
    {
     "data": {
      "text/html": [
       "<div>\n",
       "<style scoped>\n",
       "    .dataframe tbody tr th:only-of-type {\n",
       "        vertical-align: middle;\n",
       "    }\n",
       "\n",
       "    .dataframe tbody tr th {\n",
       "        vertical-align: top;\n",
       "    }\n",
       "\n",
       "    .dataframe thead th {\n",
       "        text-align: right;\n",
       "    }\n",
       "</style>\n",
       "<table border=\"1\" class=\"dataframe\">\n",
       "  <thead>\n",
       "    <tr style=\"text-align: right;\">\n",
       "      <th></th>\n",
       "      <th>Edcuation_Level</th>\n",
       "      <th>female_zscore</th>\n",
       "      <th>female_pvalue</th>\n",
       "      <th>male_zscore</th>\n",
       "      <th>male_pvalue</th>\n",
       "    </tr>\n",
       "  </thead>\n",
       "  <tbody>\n",
       "    <tr>\n",
       "      <th>0</th>\n",
       "      <td>High School</td>\n",
       "      <td>1.336903</td>\n",
       "      <td>0.909373</td>\n",
       "      <td>-1.249865</td>\n",
       "      <td>0.105674</td>\n",
       "    </tr>\n",
       "    <tr>\n",
       "      <th>1</th>\n",
       "      <td>Bachelors</td>\n",
       "      <td>0.514193</td>\n",
       "      <td>0.696442</td>\n",
       "      <td>-0.661693</td>\n",
       "      <td>0.254084</td>\n",
       "    </tr>\n",
       "    <tr>\n",
       "      <th>2</th>\n",
       "      <td>Masters</td>\n",
       "      <td>-0.582752</td>\n",
       "      <td>0.280030</td>\n",
       "      <td>0.661693</td>\n",
       "      <td>0.745916</td>\n",
       "    </tr>\n",
       "    <tr>\n",
       "      <th>3</th>\n",
       "      <td>PHD</td>\n",
       "      <td>-1.268344</td>\n",
       "      <td>0.102338</td>\n",
       "      <td>1.249865</td>\n",
       "      <td>0.894326</td>\n",
       "    </tr>\n",
       "  </tbody>\n",
       "</table>\n",
       "</div>"
      ],
      "text/plain": [
       "  Edcuation_Level  female_zscore  female_pvalue  male_zscore  male_pvalue\n",
       "0     High School       1.336903       0.909373    -1.249865     0.105674\n",
       "1       Bachelors       0.514193       0.696442    -0.661693     0.254084\n",
       "2         Masters      -0.582752       0.280030     0.661693     0.745916\n",
       "3             PHD      -1.268344       0.102338     1.249865     0.894326"
      ]
     },
     "execution_count": 10,
     "metadata": {},
     "output_type": "execute_result"
    }
   ],
   "source": [
    "print('1.) Clearly Male and Female P values shows there is a relationship among Gender and Education level which is visible more than 5%')\n",
    "print('2.) Female populations is more at lower education like High School and Bachelors')\n",
    "print('3.) Female populations is less at higher education like Masters and PHD')\n",
    "print('4.) Male populations is less at lower education like High School and Bachelors')\n",
    "print('3.) Male populations is more at higher education like Masters and PHD')\n",
    "\n",
    "df.loc[(df.Edcuation_Level==df.Edcuation_Level),['Edcuation_Level','female_zscore','female_pvalue','male_zscore','male_pvalue']]"
   ]
  },
  {
   "cell_type": "code",
   "execution_count": 11,
   "metadata": {},
   "outputs": [
    {
     "name": "stdout",
     "output_type": "stream",
     "text": [
      "The critical value(from Chi Sqare table) of χ2 with 3 degree of freedom is : 7.815\n",
      " \n",
      "Since 8.006 > 7.815, therefore we reject the null hypothesis and conclude that the education level depends on gender at a 5% level of significance\n"
     ]
    },
    {
     "data": {
      "text/html": [
       "<div>\n",
       "<style scoped>\n",
       "    .dataframe tbody tr th:only-of-type {\n",
       "        vertical-align: middle;\n",
       "    }\n",
       "\n",
       "    .dataframe tbody tr th {\n",
       "        vertical-align: top;\n",
       "    }\n",
       "\n",
       "    .dataframe thead th {\n",
       "        text-align: right;\n",
       "    }\n",
       "</style>\n",
       "<table border=\"1\" class=\"dataframe\">\n",
       "  <thead>\n",
       "    <tr style=\"text-align: right;\">\n",
       "      <th></th>\n",
       "      <th>Edcuation_level</th>\n",
       "      <th>Female</th>\n",
       "      <th>Male</th>\n",
       "      <th>tot_male_female</th>\n",
       "      <th>E_Female</th>\n",
       "      <th>E_Male</th>\n",
       "      <th>chi_sq_stat_female</th>\n",
       "      <th>chi_sq_stat_male</th>\n",
       "    </tr>\n",
       "  </thead>\n",
       "  <tbody>\n",
       "    <tr>\n",
       "      <th>0</th>\n",
       "      <td>High School</td>\n",
       "      <td>60</td>\n",
       "      <td>40</td>\n",
       "      <td>100</td>\n",
       "      <td>50.886076</td>\n",
       "      <td>49.113924</td>\n",
       "      <td>1.632345</td>\n",
       "      <td>1.691244</td>\n",
       "    </tr>\n",
       "    <tr>\n",
       "      <th>1</th>\n",
       "      <td>Bachelors</td>\n",
       "      <td>54</td>\n",
       "      <td>44</td>\n",
       "      <td>98</td>\n",
       "      <td>49.868354</td>\n",
       "      <td>48.131646</td>\n",
       "      <td>0.342311</td>\n",
       "      <td>0.354663</td>\n",
       "    </tr>\n",
       "    <tr>\n",
       "      <th>2</th>\n",
       "      <td>Masters</td>\n",
       "      <td>46</td>\n",
       "      <td>53</td>\n",
       "      <td>99</td>\n",
       "      <td>50.377215</td>\n",
       "      <td>48.622785</td>\n",
       "      <td>0.380331</td>\n",
       "      <td>0.394054</td>\n",
       "    </tr>\n",
       "    <tr>\n",
       "      <th>3</th>\n",
       "      <td>PHD</td>\n",
       "      <td>41</td>\n",
       "      <td>57</td>\n",
       "      <td>98</td>\n",
       "      <td>49.868354</td>\n",
       "      <td>48.131646</td>\n",
       "      <td>1.577107</td>\n",
       "      <td>1.634012</td>\n",
       "    </tr>\n",
       "  </tbody>\n",
       "</table>\n",
       "</div>"
      ],
      "text/plain": [
       "  Edcuation_level  Female  Male  tot_male_female   E_Female     E_Male  \\\n",
       "0     High School      60    40              100  50.886076  49.113924   \n",
       "1       Bachelors      54    44               98  49.868354  48.131646   \n",
       "2         Masters      46    53               99  50.377215  48.622785   \n",
       "3             PHD      41    57               98  49.868354  48.131646   \n",
       "\n",
       "   chi_sq_stat_female  chi_sq_stat_male  \n",
       "0            1.632345          1.691244  \n",
       "1            0.342311          0.354663  \n",
       "2            0.380331          0.394054  \n",
       "3            1.577107          1.634012  "
      ]
     },
     "execution_count": 11,
     "metadata": {},
     "output_type": "execute_result"
    }
   ],
   "source": [
    "#2nd Solution using \"Chi-Square Test of Independence\"\n",
    "\n",
    "# Calcuate Expected Frequency using E=row total * column total sample size\n",
    "# Calcuate CHi Sqare statistics using χ2=∑(O−E)2/E \n",
    "# Find Chi Square  value from CHI Square table for 3 degree freedom with 0.05\n",
    "# Compare with hypothies\n",
    "#Ho=Null Hypothesis - Gender is independant of education level\n",
    "#H1=Alternative Hypothesis - Gender is dependant of education Level\n",
    "\n",
    "#Array\n",
    "female_array=np.array([60,54,46,41])\n",
    "male_array=np.array([40,44,53,57])\n",
    "\n",
    "#Total Populations\n",
    "total_population=female_array.sum()+male_array.sum()\n",
    "\n",
    "education_level=['High School','Bachelors','Masters','PHD']\n",
    "chi_df=pd.DataFrame({'Edcuation_level':education_level,'Female':female_array,'Male':male_array})\n",
    "chi_df['tot_male_female']=chi_df.Female+chi_df.Male\n",
    "\n",
    "#Use E=E is the expected frequency under the null hypothesis and computed by ((row total×column)/total sample size)\n",
    "chi_df['E_Female']=(chi_df.Female.sum()*chi_df.tot_male_female)/total_population\n",
    "chi_df['E_Male']=chi_df.tot_male_female-chi_df.E_Female\n",
    "\n",
    "#Chi Sqare test statistics using χ2=∑(O−E)2/E for each frequency where O represent Obeserved Frequency and E is Expected Frequency.\n",
    "chi_df['chi_sq_stat_female']=[(mth.pow((chi_df.Female.values[i]-chi_df.E_Female.values[i]),2))/chi_df.E_Female.values[i] for i in range(chi_df.Female.count())]\n",
    "chi_df['chi_sq_stat_male']=[(mth.pow((chi_df.Male.values[i]-chi_df.E_Male.values[i]),2))/chi_df.E_Male.values[i] for i in range(chi_df.Male.count()) ]\n",
    "\n",
    "#total of chi_sq_stat\n",
    "chi_sq_stat=chi_df.chi_sq_stat_female.sum() +chi_df.chi_sq_stat_male.sum()\n",
    "\n",
    "#Total Chi Sqare Test statistics\n",
    "chi_sq_stat\n",
    "print('The critical value(from Chi Sqare table) of χ2 with 3 degree of freedom is :', 7.815)\n",
    "print(' ')\n",
    "print('Since 8.006 > 7.815, therefore we reject the null hypothesis and conclude that the education level depends on gender at a 5% level of significance')\n",
    "chi_df.head(5)"
   ]
  },
  {
   "cell_type": "code",
   "execution_count": 12,
   "metadata": {},
   "outputs": [
    {
     "name": "stdout",
     "output_type": "stream",
     "text": [
      "Group 1 [51 45 33 45 67]\n",
      "Group 2 [23 43 23 43 45]\n",
      "Group 3 [56 76 74 87 56]\n",
      " \n",
      "F_onewayResult(statistic=9.747205503009463, pvalue=0.0030597541434430556)\n",
      "Pvalues :0.0030597541434430556 and Fvalue: 9.747205503009463\n",
      " \n",
      "H0 Null Hypothesis Group1=Group2=Group3\n",
      "H1 Alternative Hypothesis Group1!=Group2!=Group3\n",
      "Hypothesis testing with 5% significance\n",
      " \n",
      "As per P Values which is less than 0.05, Accept the Null Hypothesis that Group1=Group2=Group3\n",
      "APA writeup F value =9.75, p value <0.05\n",
      " \n"
     ]
    }
   ],
   "source": [
    "#Problem Statement 2: \n",
    "\n",
    "#Using the following data, perform a oneway analysis of variance using α=.05. Write up the results in APA format. \n",
    "#[Group1: 51, 45, 33, 45, 67] \n",
    "#[Group2: 23, 43, 23, 43, 45]\n",
    "#[Group3: 56, 76, 74, 87, 56] \n",
    " \n",
    "group1=np.array([51, 45, 33, 45, 67])\n",
    "group2=np.array([23, 43, 23, 43, 45])\n",
    "group3=np.array([56, 76, 74, 87, 56])\n",
    "alpha=0.05\n",
    "\n",
    "print ('Group 1',group1)\n",
    "print ('Group 2',group2)\n",
    "print ('Group 3',group3)\n",
    "print(' ')\n",
    "\n",
    "#One way test\n",
    "#sci.f_oneway(group1,group2,group3) function\n",
    "print(sci.f_oneway(group1,group2,group3)) \n",
    "\n",
    "#P Value and F Test value is different as Papulation Mean are different\n",
    "pvalues=sci.f_oneway(group1,group2,group3).pvalue\n",
    "Fvalues=sci.f_oneway(group1,group2,group3).statistic\n",
    "print('Pvalues :{} and Fvalue: {}'.format(pvalues,Fvalues))\n",
    "\n",
    "print(' ')  \n",
    "\n",
    "#Hypothesis Test\n",
    "print('H0 Null Hypothesis Group1=Group2=Group3')\n",
    "print('H1 Alternative Hypothesis Group1!=Group2!=Group3')\n",
    "print('Hypothesis testing with 5% significance')\n",
    "print(' ')\n",
    "\n",
    "if pvalues > alpha:\n",
    "    print('Reject Null Hypothesis that Group1=Group2=Group3')\n",
    "else:    \n",
    "    print('As per P Values which is less than 0.05, Accept the Null Hypothesis that Group1=Group2=Group3')\n",
    "    print('APA writeup', 'F value =9.75, p value <0.05')\n",
    "\n",
    "print(' ')"
   ]
  },
  {
   "cell_type": "code",
   "execution_count": 14,
   "metadata": {},
   "outputs": [
    {
     "data": {
      "text/plain": [
       "array([10, 20, 30, 40, 50])"
      ]
     },
     "execution_count": 14,
     "metadata": {},
     "output_type": "execute_result"
    }
   ],
   "source": [
    "#Problem Statement 3: \n",
    "\n",
    "#Calculate F Test for given 10, 20, 30, 40, 50 and 5,10,15, 20, 25.  \n",
    "#For 10, 20, 30, 40, 50: \n",
    "\n",
    "first_set=np.array([10,20,30,40,50])\n",
    "\n",
    "#First Set\n",
    "first_set"
   ]
  },
  {
   "cell_type": "code",
   "execution_count": 15,
   "metadata": {},
   "outputs": [
    {
     "data": {
      "text/plain": [
       "30.0"
      ]
     },
     "execution_count": 15,
     "metadata": {},
     "output_type": "execute_result"
    }
   ],
   "source": [
    "#Mean First Set \n",
    "first_set.mean()"
   ]
  },
  {
   "cell_type": "code",
   "execution_count": 16,
   "metadata": {},
   "outputs": [
    {
     "data": {
      "text/plain": [
       "200.0"
      ]
     },
     "execution_count": 16,
     "metadata": {},
     "output_type": "execute_result"
    }
   ],
   "source": [
    "#Variance of First Set\n",
    "first_set.var()"
   ]
  },
  {
   "cell_type": "code",
   "execution_count": 21,
   "metadata": {},
   "outputs": [
    {
     "data": {
      "text/plain": [
       "14.142135623730951"
      ]
     },
     "execution_count": 21,
     "metadata": {},
     "output_type": "execute_result"
    }
   ],
   "source": [
    "#Standard deviation of First set\n",
    "first_set.std()"
   ]
  },
  {
   "cell_type": "code",
   "execution_count": 22,
   "metadata": {},
   "outputs": [
    {
     "data": {
      "text/plain": [
       "array([ 5, 10, 15, 20, 25])"
      ]
     },
     "execution_count": 22,
     "metadata": {},
     "output_type": "execute_result"
    }
   ],
   "source": [
    "second_Set=np.array([5,10,15, 20, 25])\n",
    "second_Set"
   ]
  },
  {
   "cell_type": "code",
   "execution_count": 23,
   "metadata": {},
   "outputs": [
    {
     "data": {
      "text/plain": [
       "15.0"
      ]
     },
     "execution_count": 23,
     "metadata": {},
     "output_type": "execute_result"
    }
   ],
   "source": [
    "#Mean Second Set\n",
    "second_Set.mean()"
   ]
  },
  {
   "cell_type": "code",
   "execution_count": 24,
   "metadata": {},
   "outputs": [
    {
     "data": {
      "text/plain": [
       "50.0"
      ]
     },
     "execution_count": 24,
     "metadata": {},
     "output_type": "execute_result"
    }
   ],
   "source": [
    "#Variance of Second Set\n",
    "second_Set.var()"
   ]
  },
  {
   "cell_type": "code",
   "execution_count": 25,
   "metadata": {},
   "outputs": [
    {
     "data": {
      "text/plain": [
       "7.0710678118654755"
      ]
     },
     "execution_count": 25,
     "metadata": {},
     "output_type": "execute_result"
    }
   ],
   "source": [
    "#Standard deviation of Second set\n",
    "second_Set.std()"
   ]
  },
  {
   "cell_type": "code",
   "execution_count": 27,
   "metadata": {},
   "outputs": [
    {
     "data": {
      "text/plain": [
       "4.0"
      ]
     },
     "execution_count": 27,
     "metadata": {},
     "output_type": "execute_result"
    }
   ],
   "source": [
    "#F-test\n",
    "ftest=first_set.var()/second_Set.var()\n",
    "#F Test Result\n",
    "ftest"
   ]
  },
  {
   "cell_type": "code",
   "execution_count": 28,
   "metadata": {},
   "outputs": [
    {
     "name": "stdout",
     "output_type": "stream",
     "text": [
      "H0 Null Hypothesis first_set = Second_Set\n",
      "H1 Alternative Hypothesis first_set != Second_Set\n",
      "Assumed hypothesis testing with 5% significance\n",
      " \n",
      "P Values is : 0.896\n",
      " \n",
      "P_Value is more than 5% significance and So\n",
      "H0 Null Hypothesis first_set = Second_Set is Rejected\n"
     ]
    }
   ],
   "source": [
    "#P Values, hypothesis testing 5% significance\n",
    "#Hypothesis Test\n",
    "print('H0 Null Hypothesis first_set = Second_Set')\n",
    "print('H1 Alternative Hypothesis first_set != Second_Set')\n",
    "print('Assumed hypothesis testing with 5% significance')\n",
    "print(' ')\n",
    "alpha = 0.05 \n",
    "\n",
    "#P Value using sci.f.cdf(ftest, len(first_set)-1,len(second_Set)-1)\n",
    "p_value = sci.f.cdf(ftest, len(first_set)-1,len(second_Set)-1)\n",
    "\n",
    "print('P Values is :',p_value)\n",
    "print(' ')\n",
    "if p_value > alpha:\n",
    "    print ('P_Value is more than 5% significance and So')\n",
    "    print ('H0 Null Hypothesis first_set = Second_Set is Rejected')\n",
    "else:\n",
    "    print ('H0 Null Hypothesis first_set = Second_Set is Accepted')"
   ]
  },
  {
   "cell_type": "code",
   "execution_count": null,
   "metadata": {},
   "outputs": [],
   "source": []
  }
 ],
 "metadata": {
  "kernelspec": {
   "display_name": "Python 3",
   "language": "python",
   "name": "python3"
  },
  "language_info": {
   "codemirror_mode": {
    "name": "ipython",
    "version": 3
   },
   "file_extension": ".py",
   "mimetype": "text/x-python",
   "name": "python",
   "nbconvert_exporter": "python",
   "pygments_lexer": "ipython3",
   "version": "3.6.5"
  }
 },
 "nbformat": 4,
 "nbformat_minor": 2
}
